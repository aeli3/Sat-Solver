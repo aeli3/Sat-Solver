{
 "cells": [
  {
   "cell_type": "code",
<<<<<<< HEAD
   "execution_count": null,
=======
   "execution_count": 30,
>>>>>>> 89cd90aac5fd2b643d2c6ed6a22b87c8d282d3a8
   "metadata": {},
   "outputs": [],
   "source": [
    "import numpy as np\n",
    "import random \n",
<<<<<<< HEAD
    "import time"
=======
    "import time\n",
    "import csv"
>>>>>>> 89cd90aac5fd2b643d2c6ed6a22b87c8d282d3a8
   ]
  },
  {
   "cell_type": "code",
<<<<<<< HEAD
   "execution_count": null,
   "metadata": {},
   "outputs": [],
   "source": [
    "def output_dimacs():\n",
    "    pass\n",
=======
   "execution_count": 31,
   "metadata": {},
   "outputs": [],
   "source": [
    "\n",
    "\n",
    "def output_dimacs(solution):\n",
    "    #with open('solution.out', 'w') as f:\n",
    "    with open('solution.out', 'w', newline='') as f:\n",
    "        filewriter = csv.writer(f, delimiter=\" \")\n",
    "    \n",
    "        for literal in solution:\n",
    "            filewriter.writerow(literal[0])\n",
    "    f.close()   \n",
    "    return\n",
>>>>>>> 89cd90aac5fd2b643d2c6ed6a22b87c8d282d3a8
    "\n",
    "def decode(state):\n",
    "    coords = [str(i) + str(j) for i in range(1,10) for j in range(1,10)]\n",
    "    new_state = []\n",
    "    for x in range(len(state) - 1):\n",
    "        if state[x] == '.':\n",
    "            continue\n",
    "        else:\n",
    "            new_state.append([int(coords[x] + state[x])])\n",
    "    return new_state\n",
    "\n",
    "def propagate(f, unit_clause):\n",
    "    modified = []\n",
    "    for clause in f:\n",
    "        if unit_clause in clause:\n",
    "            continue\n",
    "        if -unit_clause in clause:\n",
    "            new_clause = [x for x in clause if x != -unit_clause]\n",
    "            if not new_clause:\n",
    "                return -1\n",
    "            modified.append(new_clause)\n",
    "        else:\n",
    "            modified.append(clause)\n",
    "    return modified\n",
    "\n",
    "def unit_propagation(f):\n",
    "    assignment = []\n",
    "    unit_clauses = []  \n",
    "    unit_clauses = [clause for clause in f if len(clause) == 1]\n",
    "    while len(unit_clauses) > 0:\n",
    "        unit_clause = unit_clauses[0]\n",
    "        f = propagate(f, unit_clause[0])\n",
    "        assignment += [[unit_clause[0]]]\n",
    "        if f == -1:\n",
    "            return -1, []\n",
    "        if not f:\n",
    "            return f, assignment\n",
    "        unit_clauses = [clause for clause in f if len(clause) == 1]\n",
    "    return f, assignment\n",
    "\n",
    "def next_literal(f, assignment, heuristic='random'):\n",
<<<<<<< HEAD
    "    if heuristic == 'random':\n",
    "        return random.choice(np.setdiff1d(literals, [[abs(x[0])] for x in assignment]))\n",
    "    #if heurist == 'jw':\n",
    "        # return literal\n",
=======
    "\n",
    "    if heuristic == 'random':\n",
    "        return random.choice(np.setdiff1d(literals, [[abs(x[0])] for x in assignment]))\n",
    "    \n",
    "    if heuristic == 'jw':\n",
    "        jw_values = []\n",
    "        jw = 0\n",
    "        free_literals = np.setdiff1d(literals, [[abs(x[0])] for x in assignment])\n",
    "        for literal in free_literals: # loop over the literals\n",
    "            # for each clause \n",
    "            for clause in f:\n",
    "                if literal in clause:\n",
    "                    jw += 2.**(-len(clause)) # append jw formula\n",
    "            jw_values.append(jw)\n",
    "            jw = 0\n",
    "        # return the literal with heighest jw value\n",
    "        return free_literals[np.argmax(np.array(jw_values))]\n",
    "\n",
>>>>>>> 89cd90aac5fd2b643d2c6ed6a22b87c8d282d3a8
    "    \n",
    "def backtracking(formula, assignment, literals):\n",
    "    formula, unit_assignment = unit_propagation(formula)\n",
    "    assignment = assignment + unit_assignment \n",
    "    if formula == - 1:\n",
    "        return []\n",
    "    if not formula:\n",
    "        return assignment\n",
    "    \n",
<<<<<<< HEAD
    "    variable = next_literal(formula, assignment, 'random')\n",
=======
    "    variable = next_literal(formula, assignment, 'jw')\n",
>>>>>>> 89cd90aac5fd2b643d2c6ed6a22b87c8d282d3a8
    "    solution = backtracking(propagate(formula, variable), assignment + [[variable]], literals)\n",
    "    if not solution:\n",
    "        solution = backtracking(propagate(formula, -variable), assignment + [[-variable]], literals)\n",
    "\n",
    "    return solution"
   ]
  },
  {
   "cell_type": "code",
<<<<<<< HEAD
   "execution_count": null,
   "metadata": {},
   "outputs": [],
=======
   "execution_count": 32,
   "metadata": {},
   "outputs": [
    {
     "ename": "TypeError",
     "evalue": "writerow() takes exactly one argument (2 given)",
     "output_type": "error",
     "traceback": [
      "\u001b[1;31m---------------------------------------------------------------------------\u001b[0m",
      "\u001b[1;31mTypeError\u001b[0m                                 Traceback (most recent call last)",
      "\u001b[1;32m<ipython-input-32-6fb48699bd34>\u001b[0m in \u001b[0;36m<module>\u001b[1;34m\u001b[0m\n\u001b[0;32m     11\u001b[0m         \u001b[0mstart\u001b[0m \u001b[1;33m=\u001b[0m \u001b[0mtime\u001b[0m\u001b[1;33m.\u001b[0m\u001b[0mtime\u001b[0m\u001b[1;33m(\u001b[0m\u001b[1;33m)\u001b[0m\u001b[1;33m\u001b[0m\u001b[1;33m\u001b[0m\u001b[0m\n\u001b[0;32m     12\u001b[0m         \u001b[0msolution\u001b[0m \u001b[1;33m=\u001b[0m \u001b[0mbacktracking\u001b[0m\u001b[1;33m(\u001b[0m\u001b[0mclauses\u001b[0m \u001b[1;33m+\u001b[0m \u001b[0mdecode\u001b[0m\u001b[1;33m(\u001b[0m\u001b[0mlines\u001b[0m\u001b[1;33m)\u001b[0m\u001b[1;33m,\u001b[0m \u001b[1;33m[\u001b[0m\u001b[1;33m]\u001b[0m\u001b[1;33m,\u001b[0m \u001b[0mliterals\u001b[0m\u001b[1;33m)\u001b[0m\u001b[1;33m\u001b[0m\u001b[1;33m\u001b[0m\u001b[0m\n\u001b[1;32m---> 13\u001b[1;33m         \u001b[0moutput_dimacs\u001b[0m\u001b[1;33m(\u001b[0m\u001b[0msolution\u001b[0m\u001b[1;33m)\u001b[0m\u001b[1;33m\u001b[0m\u001b[1;33m\u001b[0m\u001b[0m\n\u001b[0m\u001b[0;32m     14\u001b[0m         \u001b[0mend\u001b[0m \u001b[1;33m=\u001b[0m \u001b[0mtime\u001b[0m\u001b[1;33m.\u001b[0m\u001b[0mtime\u001b[0m\u001b[1;33m(\u001b[0m\u001b[1;33m)\u001b[0m\u001b[1;33m\u001b[0m\u001b[1;33m\u001b[0m\u001b[0m\n\u001b[0;32m     15\u001b[0m         \u001b[0mprint\u001b[0m\u001b[1;33m(\u001b[0m\u001b[1;34m'seconds'\u001b[0m\u001b[1;33m,\u001b[0m\u001b[0mend\u001b[0m \u001b[1;33m-\u001b[0m \u001b[0mstart\u001b[0m\u001b[1;33m)\u001b[0m\u001b[1;33m\u001b[0m\u001b[1;33m\u001b[0m\u001b[0m\n",
      "\u001b[1;32m<ipython-input-31-1ce2397326cc>\u001b[0m in \u001b[0;36moutput_dimacs\u001b[1;34m(solution)\u001b[0m\n\u001b[0;32m      5\u001b[0m \u001b[1;33m\u001b[0m\u001b[0m\n\u001b[0;32m      6\u001b[0m         \u001b[1;32mfor\u001b[0m \u001b[0mliteral\u001b[0m \u001b[1;32min\u001b[0m \u001b[0msolution\u001b[0m\u001b[1;33m:\u001b[0m\u001b[1;33m\u001b[0m\u001b[1;33m\u001b[0m\u001b[0m\n\u001b[1;32m----> 7\u001b[1;33m             \u001b[0mfilewriter\u001b[0m\u001b[1;33m.\u001b[0m\u001b[0mwriterow\u001b[0m\u001b[1;33m(\u001b[0m\u001b[0mliteral\u001b[0m\u001b[1;33m[\u001b[0m\u001b[1;36m0\u001b[0m\u001b[1;33m]\u001b[0m\u001b[1;33m,\u001b[0m \u001b[1;36m0\u001b[0m\u001b[1;33m)\u001b[0m\u001b[1;33m\u001b[0m\u001b[1;33m\u001b[0m\u001b[0m\n\u001b[0m\u001b[0;32m      8\u001b[0m     \u001b[0mf\u001b[0m\u001b[1;33m.\u001b[0m\u001b[0mclose\u001b[0m\u001b[1;33m(\u001b[0m\u001b[1;33m)\u001b[0m\u001b[1;33m\u001b[0m\u001b[1;33m\u001b[0m\u001b[0m\n\u001b[0;32m      9\u001b[0m     \u001b[1;32mreturn\u001b[0m\u001b[1;33m\u001b[0m\u001b[1;33m\u001b[0m\u001b[0m\n",
      "\u001b[1;31mTypeError\u001b[0m: writerow() takes exactly one argument (2 given)"
     ]
    }
   ],
>>>>>>> 89cd90aac5fd2b643d2c6ed6a22b87c8d282d3a8
   "source": [
    "# Load in all clauses\n",
    "with open('sudoku-rules.txt', 'r') as f:\n",
    "    clauses = [lines.split()[:-1] for lines in f][1:]\n",
    "    clauses = [ list(np.array(clause, dtype=int)) for clause in clauses]\n",
    "\n",
    "literals = [[x+y+z] for x in range(100,1000, 100) for y in range(10,100,10) for z in range(1,10)]\n",
    "\n",
    "with open('top91.sdk.txt', 'r') as f:\n",
    "    for lines in f:\n",
<<<<<<< HEAD
    "        start = time.time()\n",
    "        solution = backtracking(clauses + decode(lines), [], literals)\n",
=======
    "\n",
    "        start = time.time()\n",
    "        solution = backtracking(clauses + decode(lines), [], literals) \n",
    "        output_dimacs(solution)\n",
>>>>>>> 89cd90aac5fd2b643d2c6ed6a22b87c8d282d3a8
    "        end = time.time()\n",
    "        print('seconds',end - start)"
   ]
  },
  {
   "cell_type": "code",
   "execution_count": null,
   "metadata": {},
   "outputs": [],
   "source": [
    "# flatten solution list so we can easily display it\n",
    "flatten = lambda *n: (e for a in n\n",
    "    for e in (flatten(*a) if isinstance(a, (tuple, list)) else (a,)))\n",
    "solution = list(flatten(solution))\n",
    "\n",
    "def visualize_solution(state):\n",
    "    sudoku_grid = np.zeros((9,9))\n",
    "    for x in state:\n",
    "        if x > 0:\n",
    "            sudoku_grid[int(str(x)[0])-1,int(str(x)[1])-1] = int(str(x)[2]) \n",
    "    return sudoku_grid\n",
    "\n",
    "visualize_solution(solution)"
   ]
  },
  {
   "cell_type": "code",
   "execution_count": null,
   "metadata": {},
   "outputs": [],
   "source": []
  }
 ],
 "metadata": {
  "kernelspec": {
   "display_name": "Python 3",
   "language": "python",
   "name": "python3"
  },
  "language_info": {
   "codemirror_mode": {
    "name": "ipython",
    "version": 3
   },
   "file_extension": ".py",
   "mimetype": "text/x-python",
   "name": "python",
   "nbconvert_exporter": "python",
   "pygments_lexer": "ipython3",
<<<<<<< HEAD
   "version": "3.9.0"
=======
   "version": "3.8.5"
>>>>>>> 89cd90aac5fd2b643d2c6ed6a22b87c8d282d3a8
  }
 },
 "nbformat": 4,
 "nbformat_minor": 4
}
