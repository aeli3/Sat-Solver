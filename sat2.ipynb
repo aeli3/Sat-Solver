{
 "cells": [
  {
   "cell_type": "code",
   "execution_count": null,
   "metadata": {},
   "outputs": [],
   "source": [
    "import numpy as np\n",
    "import random \n",
    "import time"
   ]
  },
  {
   "cell_type": "code",
   "execution_count": null,
   "metadata": {},
   "outputs": [],
   "source": [
    "def output_dimacs():\n",
    "    pass\n",
    "\n",
    "def decode(state):\n",
    "    coords = [str(i) + str(j) for i in range(1,10) for j in range(1,10)]\n",
    "    new_state = []\n",
    "    for x in range(len(state) - 1):\n",
    "        if state[x] == '.':\n",
    "            continue\n",
    "        else:\n",
    "            new_state.append([int(coords[x] + state[x])])\n",
    "    return new_state\n",
    "\n",
    "def propagate(f, unit_clause):\n",
    "    modified = []\n",
    "    for clause in f:\n",
    "        if unit_clause in clause:\n",
    "            continue\n",
    "        if -unit_clause in clause:\n",
    "            new_clause = [x for x in clause if x != -unit_clause]\n",
    "            if not new_clause:\n",
    "                return -1\n",
    "            modified.append(new_clause)\n",
    "        else:\n",
    "            modified.append(clause)\n",
    "    return modified\n",
    "\n",
    "def unit_propagation(f):\n",
    "    assignment = []\n",
    "    unit_clauses = []  \n",
    "    unit_clauses = [clause for clause in f if len(clause) == 1]\n",
    "    while len(unit_clauses) > 0:\n",
    "        unit_clause = unit_clauses[0]\n",
    "        f = propagate(f, unit_clause[0])\n",
    "        assignment += [[unit_clause[0]]]\n",
    "        if f == -1:\n",
    "            return -1, []\n",
    "        if not f:\n",
    "            return f, assignment\n",
    "        unit_clauses = [clause for clause in f if len(clause) == 1]\n",
    "    return f, assignment\n",
    "\n",
    "def next_literal(f, assignment, heuristic='random'):\n",
    "    if heuristic == 'random':\n",
    "        return random.choice(np.setdiff1d(literals, [[abs(x[0])] for x in assignment]))\n",
    "    #if heurist == 'jw':\n",
    "        # return literal\n",
    "    \n",
    "def backtracking(formula, assignment, literals):\n",
    "    formula, unit_assignment = unit_propagation(formula)\n",
    "    assignment = assignment + unit_assignment \n",
    "    if formula == - 1:\n",
    "        return []\n",
    "    if not formula:\n",
    "        return assignment\n",
    "    \n",
    "    variable = next_literal(formula, assignment, 'random')\n",
    "    solution = backtracking(propagate(formula, variable), assignment + [[variable]], literals)\n",
    "    if not solution:\n",
    "        solution = backtracking(propagate(formula, -variable), assignment + [[-variable]], literals)\n",
    "\n",
    "    return solution"
   ]
  },
  {
   "cell_type": "code",
   "execution_count": null,
   "metadata": {},
   "outputs": [],
   "source": [
    "# Load in all clauses\n",
    "with open('sudoku-rules.txt', 'r') as f:\n",
    "    clauses = [lines.split()[:-1] for lines in f][1:]\n",
    "    clauses = [ list(np.array(clause, dtype=int)) for clause in clauses]\n",
    "\n",
    "literals = [[x+y+z] for x in range(100,1000, 100) for y in range(10,100,10) for z in range(1,10)]\n",
    "\n",
    "with open('top91.sdk.txt', 'r') as f:\n",
    "    for lines in f:\n",
    "        start = time.time()\n",
    "        solution = backtracking(clauses + decode(lines), [], literals)\n",
    "        end = time.time()\n",
    "        print('seconds',end - start)"
   ]
  },
  {
   "cell_type": "code",
   "execution_count": null,
   "metadata": {},
   "outputs": [],
   "source": [
    "# flatten solution list so we can easily display it\n",
    "flatten = lambda *n: (e for a in n\n",
    "    for e in (flatten(*a) if isinstance(a, (tuple, list)) else (a,)))\n",
    "solution = list(flatten(solution))\n",
    "\n",
    "def visualize_solution(state):\n",
    "    sudoku_grid = np.zeros((9,9))\n",
    "    for x in state:\n",
    "        if x > 0:\n",
    "            sudoku_grid[int(str(x)[0])-1,int(str(x)[1])-1] = int(str(x)[2]) \n",
    "    return sudoku_grid\n",
    "\n",
    "visualize_solution(solution)"
   ]
  },
  {
   "cell_type": "code",
   "execution_count": null,
   "metadata": {},
   "outputs": [],
   "source": []
  }
 ],
 "metadata": {
  "kernelspec": {
   "display_name": "Python 3",
   "language": "python",
   "name": "python3"
  },
  "language_info": {
   "codemirror_mode": {
    "name": "ipython",
    "version": 3
   },
   "file_extension": ".py",
   "mimetype": "text/x-python",
   "name": "python",
   "nbconvert_exporter": "python",
   "pygments_lexer": "ipython3",
   "version": "3.9.0"
  }
 },
 "nbformat": 4,
 "nbformat_minor": 4
}
