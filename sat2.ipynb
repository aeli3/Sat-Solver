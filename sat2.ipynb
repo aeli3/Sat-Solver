{
 "cells": [
  {
   "cell_type": "code",
   "execution_count": 10,
   "metadata": {},
   "outputs": [],
   "source": [
    "import numpy as np\n",
    "import random "
   ]
  },
  {
   "cell_type": "code",
   "execution_count": 11,
   "metadata": {},
   "outputs": [],
   "source": [
    "# Load in all clauses\n",
    "with open('sudoku-rules.txt', 'r') as f:\n",
    "    clauses = [lines.split()[:-1] for lines in f][1:]\n",
    "    clauses = [np.array(clause, dtype=int) for clause in clauses]\n",
    "\n",
    "literals = [[x+y+z] for x in range(100,1000, 100) for y in range(10,100,10) for z in range(1,10)]\n",
    "start_state = [168 ,175, 225, 231, 318, 419, 444, 465, 493, 689, 692, 727, 732, 828, 886, 956, 961, 973]\n",
    "start_state = [[x] for x in start_state]"
   ]
  },
  {
   "cell_type": "code",
   "execution_count": 12,
   "metadata": {},
   "outputs": [],
   "source": [
    "def propagate(f, unit_clause):\n",
    "    modified = []\n",
    "    for clause in f:\n",
    "        if unit_clause in clause:\n",
    "            continue\n",
    "        if -unit_clause in clause:\n",
    "            new_clause = [x for x in clause if x != -unit_clause]\n",
    "            if not new_clause:\n",
    "                return -1\n",
    "            modified.append(new_clause)\n",
    "        else:\n",
    "            modified.append(clause)\n",
    "    return modified\n",
    "\n",
    "def unit_propagation(f):\n",
    "    assignment = []\n",
    "    unit_clauses = [clause for clause in f if len(clause) == 1]\n",
    "    while len(unit_clauses) > 0:\n",
    "        unit_clause = unit_clauses[0]\n",
    "        f = propagate(f, unit_clause[0])\n",
    "        assignment += [[unit_clause[0]]]\n",
    "        if f == -1:\n",
    "            return -1, []\n",
    "        if not f:\n",
    "            return f, assignment\n",
    "        unit_clauses = [clause for clause in f if len(clause) == 1]\n",
    "    return f, assignment\n",
    "    \n",
    "def backtracking(formula, assignment, literals):\n",
    "    formula, unit_assignment = unit_propagation(formula)\n",
    "    assignment = assignment + unit_assignment \n",
    "    if formula == - 1:\n",
    "        return []\n",
    "    if not formula:\n",
    "        return assignment\n",
    "    \n",
    "    variable = random.choice(np.setdiff1d(literals, [[abs(x[0])] for x in assignment]))\n",
    "    solution = backtracking(propagate(formula, variable), assignment + [[variable]], literals)\n",
    "    if not solution:\n",
    "        solution = backtracking(propagate(formula, -variable), assignment + [[-variable]], literals)\n",
    "\n",
    "    return solution"
   ]
  },
  {
   "cell_type": "code",
   "execution_count": 13,
   "metadata": {},
   "outputs": [],
   "source": [
    "solution = backtracking(clauses + start_state, [], literals)"
   ]
  },
  {
   "cell_type": "code",
   "execution_count": 14,
   "metadata": {},
   "outputs": [
    {
     "data": {
      "text/plain": [
       "array([[2., 6., 9., 1., 4., 8., 5., 3., 7.],\n",
       "       [4., 5., 1., 3., 7., 2., 9., 8., 6.],\n",
       "       [8., 3., 7., 9., 5., 6., 4., 2., 1.],\n",
       "       [9., 2., 6., 4., 8., 5., 7., 1., 3.],\n",
       "       [3., 1., 8., 7., 2., 9., 6., 4., 5.],\n",
       "       [7., 4., 5., 6., 1., 3., 8., 9., 2.],\n",
       "       [6., 7., 2., 8., 3., 4., 1., 5., 9.],\n",
       "       [1., 8., 3., 5., 9., 7., 2., 6., 4.],\n",
       "       [5., 9., 4., 2., 6., 1., 3., 7., 8.]])"
      ]
     },
     "execution_count": 14,
     "metadata": {},
     "output_type": "execute_result"
    }
   ],
   "source": [
    "# flatten solution list so we can easily display it\n",
    "flatten = lambda *n: (e for a in n\n",
    "    for e in (flatten(*a) if isinstance(a, (tuple, list)) else (a,)))\n",
    "solution = list(flatten(solution))\n",
    "\n",
    "def visualize_solution(state):\n",
    "    sudoku_grid = np.zeros((9,9))\n",
    "    for x in state:\n",
    "        if x > 0:\n",
    "            sudoku_grid[int(str(x)[0])-1,int(str(x)[1])-1] = int(str(x)[2]) \n",
    "    return sudoku_grid\n",
    "\n",
    "visualize_solution(solution)"
   ]
  },
  {
   "cell_type": "code",
   "execution_count": null,
   "metadata": {},
   "outputs": [],
   "source": [
    "\n"
   ]
  },
  {
   "cell_type": "code",
   "execution_count": null,
   "metadata": {},
   "outputs": [],
   "source": []
  }
 ],
 "metadata": {
  "kernelspec": {
   "display_name": "Python 3",
   "language": "python",
   "name": "python3"
  },
  "language_info": {
   "codemirror_mode": {
    "name": "ipython",
    "version": 3
   },
   "file_extension": ".py",
   "mimetype": "text/x-python",
   "name": "python",
   "nbconvert_exporter": "python",
   "pygments_lexer": "ipython3",
   "version": "3.9.0"
  }
 },
 "nbformat": 4,
 "nbformat_minor": 4
}
